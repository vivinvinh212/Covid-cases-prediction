{
  "nbformat": 4,
  "nbformat_minor": 0,
  "metadata": {
    "colab": {
      "name": "Stats.ipynb",
      "provenance": [],
      "collapsed_sections": []
    },
    "kernelspec": {
      "name": "python3",
      "display_name": "Python 3"
    },
    "language_info": {
      "name": "python"
    }
  },
  "cells": [
    {
      "cell_type": "markdown",
      "source": [
        "*   Name - ID: \n",
        "*   Team members: \n",
        "1.   Le Hoang Vinh - V202000144\n",
        "2.   Khau Lien Kiet - V202000199\n",
        "3.   Nguyen Duong Tung - V202000270\n",
        "\n",
        "\n",
        "\n",
        "\n",
        "\n",
        "\n"
      ],
      "metadata": {
        "id": "uSfl2xcxG7U2"
      }
    },
    {
      "cell_type": "code",
      "execution_count": null,
      "metadata": {
        "id": "WPYUvBquQmWi",
        "colab": {
          "base_uri": "https://localhost:8080/"
        },
        "outputId": "432374fd-d9b4-4b37-c157-5bd47723fd90"
      },
      "outputs": [
        {
          "output_type": "stream",
          "name": "stderr",
          "text": [
            "/usr/local/lib/python3.7/dist-packages/statsmodels/tools/_testing.py:19: FutureWarning: pandas.util.testing is deprecated. Use the functions in the public API at pandas.testing instead.\n",
            "  import pandas.util.testing as tm\n"
          ]
        }
      ],
      "source": [
        "#Import necessary libraries and frameworks\n",
        "import time\n",
        "import pandas as pd\n",
        "from sklearn.linear_model import LinearRegression\n",
        "import seaborn as sns\n",
        "from sklearn.impute import SimpleImputer, KNNImputer\n",
        "from sklearn.metrics import mean_absolute_error\n",
        "from sklearn.preprocessing import OneHotEncoder\n",
        "from sklearn.pipeline import make_pipeline\n",
        "import numpy as np\n",
        "import statsmodels.api as sm\n",
        "from sklearn.feature_selection import SequentialFeatureSelector as sfs"
      ]
    },
    {
      "cell_type": "markdown",
      "source": [
        "# 1. Data preparation"
      ],
      "metadata": {
        "id": "C8PzKsIhspXh"
      }
    },
    {
      "cell_type": "markdown",
      "source": [
        "**Observation:** There are a significant amount of N/A values, preventing the analysis. Hence we need to deal with them by using appropriate dropping and imputation.\n",
        "\n",
        "**Data cleaning:** Drop columns that contains more than 50% null values, contains duplicate values (e.g.total_cases and\n",
        "total_cases_per_million)\n",
        "\n",
        "**Justification:** While we can impute missing values, there still needs to be enough data in a column to do a good imputation. It is decided that if more than half of the data in a column is missing,\n",
        "we will drop it then try imputing.\n",
        "\n",
        "We should avoid drop rows from dataset as the number of records is quite small. Large deduction will significantly affect model performance\n"
      ],
      "metadata": {
        "id": "CvHDk4jBsAGk"
      }
    },
    {
      "cell_type": "code",
      "source": [
        "# Read data into dataframe and clean data\n",
        "df = pd.read_csv(\"owid-2022-clean.csv\")\n",
        "\n",
        "# Old Data Cleaning (Drop approximately 40/60 initial feature)\n",
        "\n",
        "# #drop columns that are duplicate, having too low number of values, having too low or high cardinality\n",
        "# drop = [\"weekly_icu_admissions\", \"icu_patients\",\"hosp_patients\", \"new_tests_per_thousand\",\"new_vaccinations\"\n",
        "#         ,\"new_cases\",\"new_deaths\", \"new_people_vaccinated_smoothed_per_hundred\",\"weekly_hosp_admissions\",\n",
        "#         \"weekly_icu_admissions_per_million\",\"weekly_hosp_admissions_per_million\",\n",
        "#         \"hosp_patients_per_million\",\"icu_patients_per_million\",\"new_tests_smoothed\",\"people_vaccinated\",\n",
        "#         \"people_fully_vaccinated\",\"new_vaccinations_smoothed_per_million\",\"new_deaths_smoothed_per_million\"\n",
        "#         ,\"new_deaths_per_million\",\"new_cases_smoothed_per_million\",\"new_cases_per_million\",\n",
        "#         \"new_tests_smoothed_per_thousand\"]\n",
        "#drop ignore columns\n",
        "# drop_ignore = [\"excess_mortality_cumulative_absolute\",\"excess_mortality_cumulative\",\n",
        "#         \"excess_mortality\",\"excess_mortality_cumulative_per_million\", \"location\"\n",
        "#         , \"date\", \"total_deaths\", \"total_cases\", \"population\", \"tests_units\"]\n",
        "# drop += drop_ignore\n",
        "# #drop N/A values in continent row\n",
        "# df.dropna(subset = ['continent'], inplace = True)\n",
        "\n",
        "# New data cleaning\n",
        "#drop columns in instructions \n",
        "# Note: \n",
        "#  - feature \"location\" is not dropped to be used for groupping\n",
        "#  - total_cases_per_million feature is dropped based on the law of casualty\n",
        "drop =[\"iso_code\",\"date\", \"population\", \"tests_units\",\"total_deaths_per_million\",\n",
        "       \"total_cases_per_million\"]\n",
        "\n",
        "# #drop columns with more than 50% N/A values:\n",
        "drop_na = [\"people_vaccinated_per_hundred\", \"people_fully_vaccinated_per_hundred\",\n",
        "\"total_boosters_per_hundred\",\"handwashing_facilities\"]\n",
        "drop += drop_na\n",
        "\n",
        "#drop selected columns\n",
        "df.drop(columns = drop, inplace = True)\n",
        "\n",
        "# replace empty values to N/A values for consistency\n",
        "df.replace(\"\", np.nan, inplace=True)\n",
        "\n",
        "# Handle 0 values\n",
        "\"\"\"\n",
        "In the given dataset there are 0 values in 3 columns: new_cases_per_million (262),\n",
        "new_deaths_per_million (483) and positive_rate (8):\n",
        "\n",
        "-In the former 2 columns, this could be regarded as normal as every other \n",
        "measurements of the countries are presented and they may have no case at that \n",
        "day (real 0). Hence we could change these values to NA to apply the imputer.\n",
        "\n",
        "- The latter one (positive_rate) constitutes 7 records of China and 1 record of \n",
        "Tanzania. We notice that this is a special feature as this is the inverse of the\n",
        " tests_per_case feature next to it. So China have the tests_per_case feature \n",
        " values all present, hence we can calculate the value of positive_rate accordingly.\n",
        " It turns out that the values are too small that are rounded to 0. For Tazania, \n",
        " the tests_per_case value are N/A hence we also apply N/A for positive_rate.\n",
        "\n",
        " -> In summary, we deal with the 0 values by calculating the positive_rate of China\n",
        " then transform all 0 values left into N/A for the imputer.\n",
        "\"\"\"\n",
        "china_cases = df.loc[260:266]\n",
        "china_cases[\"positive_rate\"] = 1/china_cases[\"tests_per_case\"]\n",
        "\n",
        "df.replace(0, np.nan, inplace=True)\n",
        "china_cases"
      ],
      "metadata": {
        "id": "zSIlZ7BJRBj5",
        "colab": {
          "base_uri": "https://localhost:8080/",
          "height": 471
        },
        "outputId": "7a901e5e-1842-4b6d-c0c8-7bafb11fa5be"
      },
      "execution_count": null,
      "outputs": [
        {
          "output_type": "stream",
          "name": "stderr",
          "text": [
            "/usr/local/lib/python3.7/dist-packages/ipykernel_launcher.py:61: SettingWithCopyWarning: \n",
            "A value is trying to be set on a copy of a slice from a DataFrame.\n",
            "Try using .loc[row_indexer,col_indexer] = value instead\n",
            "\n",
            "See the caveats in the documentation: https://pandas.pydata.org/pandas-docs/stable/user_guide/indexing.html#returning-a-view-versus-a-copy\n"
          ]
        },
        {
          "output_type": "execute_result",
          "data": {
            "text/plain": [
              "         continent  location  new_cases_per_million  new_deaths_per_million  \\\n",
              "260           Asia     China                  0.045                     NaN   \n",
              "261           Asia     China                  0.084                     NaN   \n",
              "262           Asia     China                  0.053                     NaN   \n",
              "263           Asia     China                  0.066                     NaN   \n",
              "264           Asia     China                  0.076                     NaN   \n",
              "265           Asia     China                  0.105                     NaN   \n",
              "266  South America  Colombia                281.942                   4.896   \n",
              "\n",
              "     new_tests_smoothed_per_thousand  positive_rate  tests_per_case  \\\n",
              "260                           10.227       0.000007        143597.3   \n",
              "261                           10.227       0.000007        141629.6   \n",
              "262                           10.227       0.000007        148336.2   \n",
              "263                           10.227       0.000007        151597.4   \n",
              "264                           10.227       0.000007        153625.2   \n",
              "265                           10.227       0.000007        145618.9   \n",
              "266                            1.133       0.384615             2.6   \n",
              "\n",
              "     stringency_index  population_density  median_age  ...  aged_70_older  \\\n",
              "260             64.35             147.674        38.7  ...          5.929   \n",
              "261             64.35             147.674        38.7  ...          5.929   \n",
              "262             64.35             147.674        38.7  ...          5.929   \n",
              "263             64.35             147.674        38.7  ...          5.929   \n",
              "264             64.35             147.674        38.7  ...          5.929   \n",
              "265             64.35             147.674        38.7  ...          5.929   \n",
              "266             62.04              44.223        32.2  ...          4.312   \n",
              "\n",
              "     gdp_per_capita  extreme_poverty  cardiovasc_death_rate  \\\n",
              "260       15308.712              0.7                261.899   \n",
              "261       15308.712              0.7                261.899   \n",
              "262       15308.712              0.7                261.899   \n",
              "263       15308.712              0.7                261.899   \n",
              "264       15308.712              0.7                261.899   \n",
              "265       15308.712              0.7                261.899   \n",
              "266       13254.949              4.5                124.240   \n",
              "\n",
              "     diabetes_prevalence  female_smokers  male_smokers  \\\n",
              "260                 9.74             1.9          48.4   \n",
              "261                 9.74             1.9          48.4   \n",
              "262                 9.74             1.9          48.4   \n",
              "263                 9.74             1.9          48.4   \n",
              "264                 9.74             1.9          48.4   \n",
              "265                 9.74             1.9          48.4   \n",
              "266                 7.44             4.7          13.5   \n",
              "\n",
              "     hospital_beds_per_thousand  life_expectancy  human_development_index  \n",
              "260                        4.34            76.91                    0.761  \n",
              "261                        4.34            76.91                    0.761  \n",
              "262                        4.34            76.91                    0.761  \n",
              "263                        4.34            76.91                    0.761  \n",
              "264                        4.34            76.91                    0.761  \n",
              "265                        4.34            76.91                    0.761  \n",
              "266                        1.71            77.29                    0.767  \n",
              "\n",
              "[7 rows x 21 columns]"
            ],
            "text/html": [
              "\n",
              "  <div id=\"df-cc2d295a-32c0-46d5-88f1-9549373f378d\">\n",
              "    <div class=\"colab-df-container\">\n",
              "      <div>\n",
              "<style scoped>\n",
              "    .dataframe tbody tr th:only-of-type {\n",
              "        vertical-align: middle;\n",
              "    }\n",
              "\n",
              "    .dataframe tbody tr th {\n",
              "        vertical-align: top;\n",
              "    }\n",
              "\n",
              "    .dataframe thead th {\n",
              "        text-align: right;\n",
              "    }\n",
              "</style>\n",
              "<table border=\"1\" class=\"dataframe\">\n",
              "  <thead>\n",
              "    <tr style=\"text-align: right;\">\n",
              "      <th></th>\n",
              "      <th>continent</th>\n",
              "      <th>location</th>\n",
              "      <th>new_cases_per_million</th>\n",
              "      <th>new_deaths_per_million</th>\n",
              "      <th>new_tests_smoothed_per_thousand</th>\n",
              "      <th>positive_rate</th>\n",
              "      <th>tests_per_case</th>\n",
              "      <th>stringency_index</th>\n",
              "      <th>population_density</th>\n",
              "      <th>median_age</th>\n",
              "      <th>...</th>\n",
              "      <th>aged_70_older</th>\n",
              "      <th>gdp_per_capita</th>\n",
              "      <th>extreme_poverty</th>\n",
              "      <th>cardiovasc_death_rate</th>\n",
              "      <th>diabetes_prevalence</th>\n",
              "      <th>female_smokers</th>\n",
              "      <th>male_smokers</th>\n",
              "      <th>hospital_beds_per_thousand</th>\n",
              "      <th>life_expectancy</th>\n",
              "      <th>human_development_index</th>\n",
              "    </tr>\n",
              "  </thead>\n",
              "  <tbody>\n",
              "    <tr>\n",
              "      <th>260</th>\n",
              "      <td>Asia</td>\n",
              "      <td>China</td>\n",
              "      <td>0.045</td>\n",
              "      <td>NaN</td>\n",
              "      <td>10.227</td>\n",
              "      <td>0.000007</td>\n",
              "      <td>143597.3</td>\n",
              "      <td>64.35</td>\n",
              "      <td>147.674</td>\n",
              "      <td>38.7</td>\n",
              "      <td>...</td>\n",
              "      <td>5.929</td>\n",
              "      <td>15308.712</td>\n",
              "      <td>0.7</td>\n",
              "      <td>261.899</td>\n",
              "      <td>9.74</td>\n",
              "      <td>1.9</td>\n",
              "      <td>48.4</td>\n",
              "      <td>4.34</td>\n",
              "      <td>76.91</td>\n",
              "      <td>0.761</td>\n",
              "    </tr>\n",
              "    <tr>\n",
              "      <th>261</th>\n",
              "      <td>Asia</td>\n",
              "      <td>China</td>\n",
              "      <td>0.084</td>\n",
              "      <td>NaN</td>\n",
              "      <td>10.227</td>\n",
              "      <td>0.000007</td>\n",
              "      <td>141629.6</td>\n",
              "      <td>64.35</td>\n",
              "      <td>147.674</td>\n",
              "      <td>38.7</td>\n",
              "      <td>...</td>\n",
              "      <td>5.929</td>\n",
              "      <td>15308.712</td>\n",
              "      <td>0.7</td>\n",
              "      <td>261.899</td>\n",
              "      <td>9.74</td>\n",
              "      <td>1.9</td>\n",
              "      <td>48.4</td>\n",
              "      <td>4.34</td>\n",
              "      <td>76.91</td>\n",
              "      <td>0.761</td>\n",
              "    </tr>\n",
              "    <tr>\n",
              "      <th>262</th>\n",
              "      <td>Asia</td>\n",
              "      <td>China</td>\n",
              "      <td>0.053</td>\n",
              "      <td>NaN</td>\n",
              "      <td>10.227</td>\n",
              "      <td>0.000007</td>\n",
              "      <td>148336.2</td>\n",
              "      <td>64.35</td>\n",
              "      <td>147.674</td>\n",
              "      <td>38.7</td>\n",
              "      <td>...</td>\n",
              "      <td>5.929</td>\n",
              "      <td>15308.712</td>\n",
              "      <td>0.7</td>\n",
              "      <td>261.899</td>\n",
              "      <td>9.74</td>\n",
              "      <td>1.9</td>\n",
              "      <td>48.4</td>\n",
              "      <td>4.34</td>\n",
              "      <td>76.91</td>\n",
              "      <td>0.761</td>\n",
              "    </tr>\n",
              "    <tr>\n",
              "      <th>263</th>\n",
              "      <td>Asia</td>\n",
              "      <td>China</td>\n",
              "      <td>0.066</td>\n",
              "      <td>NaN</td>\n",
              "      <td>10.227</td>\n",
              "      <td>0.000007</td>\n",
              "      <td>151597.4</td>\n",
              "      <td>64.35</td>\n",
              "      <td>147.674</td>\n",
              "      <td>38.7</td>\n",
              "      <td>...</td>\n",
              "      <td>5.929</td>\n",
              "      <td>15308.712</td>\n",
              "      <td>0.7</td>\n",
              "      <td>261.899</td>\n",
              "      <td>9.74</td>\n",
              "      <td>1.9</td>\n",
              "      <td>48.4</td>\n",
              "      <td>4.34</td>\n",
              "      <td>76.91</td>\n",
              "      <td>0.761</td>\n",
              "    </tr>\n",
              "    <tr>\n",
              "      <th>264</th>\n",
              "      <td>Asia</td>\n",
              "      <td>China</td>\n",
              "      <td>0.076</td>\n",
              "      <td>NaN</td>\n",
              "      <td>10.227</td>\n",
              "      <td>0.000007</td>\n",
              "      <td>153625.2</td>\n",
              "      <td>64.35</td>\n",
              "      <td>147.674</td>\n",
              "      <td>38.7</td>\n",
              "      <td>...</td>\n",
              "      <td>5.929</td>\n",
              "      <td>15308.712</td>\n",
              "      <td>0.7</td>\n",
              "      <td>261.899</td>\n",
              "      <td>9.74</td>\n",
              "      <td>1.9</td>\n",
              "      <td>48.4</td>\n",
              "      <td>4.34</td>\n",
              "      <td>76.91</td>\n",
              "      <td>0.761</td>\n",
              "    </tr>\n",
              "    <tr>\n",
              "      <th>265</th>\n",
              "      <td>Asia</td>\n",
              "      <td>China</td>\n",
              "      <td>0.105</td>\n",
              "      <td>NaN</td>\n",
              "      <td>10.227</td>\n",
              "      <td>0.000007</td>\n",
              "      <td>145618.9</td>\n",
              "      <td>64.35</td>\n",
              "      <td>147.674</td>\n",
              "      <td>38.7</td>\n",
              "      <td>...</td>\n",
              "      <td>5.929</td>\n",
              "      <td>15308.712</td>\n",
              "      <td>0.7</td>\n",
              "      <td>261.899</td>\n",
              "      <td>9.74</td>\n",
              "      <td>1.9</td>\n",
              "      <td>48.4</td>\n",
              "      <td>4.34</td>\n",
              "      <td>76.91</td>\n",
              "      <td>0.761</td>\n",
              "    </tr>\n",
              "    <tr>\n",
              "      <th>266</th>\n",
              "      <td>South America</td>\n",
              "      <td>Colombia</td>\n",
              "      <td>281.942</td>\n",
              "      <td>4.896</td>\n",
              "      <td>1.133</td>\n",
              "      <td>0.384615</td>\n",
              "      <td>2.6</td>\n",
              "      <td>62.04</td>\n",
              "      <td>44.223</td>\n",
              "      <td>32.2</td>\n",
              "      <td>...</td>\n",
              "      <td>4.312</td>\n",
              "      <td>13254.949</td>\n",
              "      <td>4.5</td>\n",
              "      <td>124.240</td>\n",
              "      <td>7.44</td>\n",
              "      <td>4.7</td>\n",
              "      <td>13.5</td>\n",
              "      <td>1.71</td>\n",
              "      <td>77.29</td>\n",
              "      <td>0.767</td>\n",
              "    </tr>\n",
              "  </tbody>\n",
              "</table>\n",
              "<p>7 rows × 21 columns</p>\n",
              "</div>\n",
              "      <button class=\"colab-df-convert\" onclick=\"convertToInteractive('df-cc2d295a-32c0-46d5-88f1-9549373f378d')\"\n",
              "              title=\"Convert this dataframe to an interactive table.\"\n",
              "              style=\"display:none;\">\n",
              "        \n",
              "  <svg xmlns=\"http://www.w3.org/2000/svg\" height=\"24px\"viewBox=\"0 0 24 24\"\n",
              "       width=\"24px\">\n",
              "    <path d=\"M0 0h24v24H0V0z\" fill=\"none\"/>\n",
              "    <path d=\"M18.56 5.44l.94 2.06.94-2.06 2.06-.94-2.06-.94-.94-2.06-.94 2.06-2.06.94zm-11 1L8.5 8.5l.94-2.06 2.06-.94-2.06-.94L8.5 2.5l-.94 2.06-2.06.94zm10 10l.94 2.06.94-2.06 2.06-.94-2.06-.94-.94-2.06-.94 2.06-2.06.94z\"/><path d=\"M17.41 7.96l-1.37-1.37c-.4-.4-.92-.59-1.43-.59-.52 0-1.04.2-1.43.59L10.3 9.45l-7.72 7.72c-.78.78-.78 2.05 0 2.83L4 21.41c.39.39.9.59 1.41.59.51 0 1.02-.2 1.41-.59l7.78-7.78 2.81-2.81c.8-.78.8-2.07 0-2.86zM5.41 20L4 18.59l7.72-7.72 1.47 1.35L5.41 20z\"/>\n",
              "  </svg>\n",
              "      </button>\n",
              "      \n",
              "  <style>\n",
              "    .colab-df-container {\n",
              "      display:flex;\n",
              "      flex-wrap:wrap;\n",
              "      gap: 12px;\n",
              "    }\n",
              "\n",
              "    .colab-df-convert {\n",
              "      background-color: #E8F0FE;\n",
              "      border: none;\n",
              "      border-radius: 50%;\n",
              "      cursor: pointer;\n",
              "      display: none;\n",
              "      fill: #1967D2;\n",
              "      height: 32px;\n",
              "      padding: 0 0 0 0;\n",
              "      width: 32px;\n",
              "    }\n",
              "\n",
              "    .colab-df-convert:hover {\n",
              "      background-color: #E2EBFA;\n",
              "      box-shadow: 0px 1px 2px rgba(60, 64, 67, 0.3), 0px 1px 3px 1px rgba(60, 64, 67, 0.15);\n",
              "      fill: #174EA6;\n",
              "    }\n",
              "\n",
              "    [theme=dark] .colab-df-convert {\n",
              "      background-color: #3B4455;\n",
              "      fill: #D2E3FC;\n",
              "    }\n",
              "\n",
              "    [theme=dark] .colab-df-convert:hover {\n",
              "      background-color: #434B5C;\n",
              "      box-shadow: 0px 1px 3px 1px rgba(0, 0, 0, 0.15);\n",
              "      filter: drop-shadow(0px 1px 2px rgba(0, 0, 0, 0.3));\n",
              "      fill: #FFFFFF;\n",
              "    }\n",
              "  </style>\n",
              "\n",
              "      <script>\n",
              "        const buttonEl =\n",
              "          document.querySelector('#df-cc2d295a-32c0-46d5-88f1-9549373f378d button.colab-df-convert');\n",
              "        buttonEl.style.display =\n",
              "          google.colab.kernel.accessAllowed ? 'block' : 'none';\n",
              "\n",
              "        async function convertToInteractive(key) {\n",
              "          const element = document.querySelector('#df-cc2d295a-32c0-46d5-88f1-9549373f378d');\n",
              "          const dataTable =\n",
              "            await google.colab.kernel.invokeFunction('convertToInteractive',\n",
              "                                                     [key], {});\n",
              "          if (!dataTable) return;\n",
              "\n",
              "          const docLinkHtml = 'Like what you see? Visit the ' +\n",
              "            '<a target=\"_blank\" href=https://colab.research.google.com/notebooks/data_table.ipynb>data table notebook</a>'\n",
              "            + ' to learn more about interactive tables.';\n",
              "          element.innerHTML = '';\n",
              "          dataTable['output_type'] = 'display_data';\n",
              "          await google.colab.output.renderOutput(dataTable, element);\n",
              "          const docLink = document.createElement('div');\n",
              "          docLink.innerHTML = docLinkHtml;\n",
              "          element.appendChild(docLink);\n",
              "        }\n",
              "      </script>\n",
              "    </div>\n",
              "  </div>\n",
              "  "
            ]
          },
          "metadata": {},
          "execution_count": 2
        }
      ]
    },
    {
      "cell_type": "code",
      "source": [
        "# Data exploratory\n",
        "# df.info()\n",
        "# df.describe()\n",
        "df.shape\n",
        "\n",
        "# df.head(10)\n",
        "# df.select_dtypes(\"float64\").nunique()\n",
        "\n",
        "#Calculate the number of 0 in each column\n",
        "# replace empty and 0 values to N/A values for consistency\n",
        "print(\"The number of 0 values in each column:\")\n",
        "for column in df.columns:\n",
        "\n",
        "  print(f\"{column}:{(df[column] == 0).sum()}\")\n",
        "# Calculate percentage of null record in each column\n",
        "print(\"\\nThe percentage of NA values in each column:\")\n",
        "df.isnull().sum()/len(df)\n",
        "\n",
        "# Plot correlation heat map between features\n",
        "# corr = df.select_dtypes(\"float64\").drop(columns = [\"new_cases_smoothed\", \n",
        "#                                                    \"new_deaths_smoothed\"]).corr()\n",
        "# sns.heatmap(corr);    \n",
        "# df.head(10)"
      ],
      "metadata": {
        "colab": {
          "base_uri": "https://localhost:8080/"
        },
        "id": "KWnwwRDCitmW",
        "outputId": "521de46a-4cc8-44dc-e5f1-403b7f6de9a5"
      },
      "execution_count": null,
      "outputs": [
        {
          "output_type": "stream",
          "name": "stdout",
          "text": [
            "The number of 0 values in each column:\n",
            "continent:0\n",
            "location:0\n",
            "new_cases_per_million:0\n",
            "new_deaths_per_million:0\n",
            "new_tests_smoothed_per_thousand:0\n",
            "positive_rate:0\n",
            "tests_per_case:0\n",
            "stringency_index:0\n",
            "population_density:0\n",
            "median_age:0\n",
            "aged_65_older:0\n",
            "aged_70_older:0\n",
            "gdp_per_capita:0\n",
            "extreme_poverty:0\n",
            "cardiovasc_death_rate:0\n",
            "diabetes_prevalence:0\n",
            "female_smokers:0\n",
            "male_smokers:0\n",
            "hospital_beds_per_thousand:0\n",
            "life_expectancy:0\n",
            "human_development_index:0\n",
            "\n",
            "The percentage of NA values in each column:\n"
          ]
        },
        {
          "output_type": "execute_result",
          "data": {
            "text/plain": [
              "continent                          0.000000\n",
              "location                           0.000000\n",
              "new_cases_per_million              0.203326\n",
              "new_deaths_per_million             0.387755\n",
              "new_tests_smoothed_per_thousand    0.289494\n",
              "positive_rate                      0.337113\n",
              "tests_per_case                     0.336357\n",
              "stringency_index                   0.074074\n",
              "population_density                 0.015873\n",
              "median_age                         0.026455\n",
              "aged_65_older                      0.037037\n",
              "aged_70_older                      0.031746\n",
              "gdp_per_capita                     0.031746\n",
              "extreme_poverty                    0.354497\n",
              "cardiovasc_death_rate              0.021164\n",
              "diabetes_prevalence                0.010582\n",
              "female_smokers                     0.238095\n",
              "male_smokers                       0.248677\n",
              "hospital_beds_per_thousand         0.132275\n",
              "life_expectancy                    0.000000\n",
              "human_development_index            0.031746\n",
              "dtype: float64"
            ]
          },
          "metadata": {},
          "execution_count": 3
        }
      ]
    },
    {
      "cell_type": "code",
      "source": [
        "# Process the data \n",
        "# 1. Use the k-nearest neighbor imputer for numerical attribute\n",
        "# (Each sample’s missing values (N/A) are imputed using the mean value from \n",
        "# n_neighbors nearest neighbors found in the training set)\n",
        "\n",
        "imputer = KNNImputer(missing_values=np.nan,n_neighbors=2)\n",
        "df1 = df.drop(columns = [\"continent\",\"location\"])\n",
        "df1 = pd.DataFrame(imputer.fit_transform(df1), columns=df1.columns).join(df[\"location\"])\n",
        "\n",
        "# 2. One hot encoded the catergorical data in column \"Continent\"\n",
        "df2 = pd.get_dummies(df[\"continent\"])\n",
        "\n",
        "# join data\n",
        "df3 = df1.join(df2)\n",
        "\n",
        "# 3. Smooth (average) all the numerical measurement over a week of a country\n",
        "df3 = df3.groupby(\"location\").mean()\n",
        "\n",
        "#Write regression ready data to regression_data.csv file\n",
        "df3.to_csv(\"regression_data.csv\", encoding='utf-8', index=False)    "
      ],
      "metadata": {
        "id": "1bHOujJ9ika-"
      },
      "execution_count": null,
      "outputs": []
    },
    {
      "cell_type": "markdown",
      "source": [
        "# 2. Perform regression and standard diagnostic"
      ],
      "metadata": {
        "id": "l8oAvMlcvZhB"
      }
    },
    {
      "cell_type": "code",
      "source": [
        "data = pd.read_csv(\"regression_data.csv\")"
      ],
      "metadata": {
        "id": "7j23QJKiuWye"
      },
      "execution_count": null,
      "outputs": []
    },
    {
      "cell_type": "code",
      "source": [
        "# Build Model to predict \"new_cases_per_million\"\n",
        "features = data.drop(columns = [\"new_cases_per_million\", \"new_deaths_per_million\"]).columns\n",
        "data1 = data.drop(columns = \"new_deaths_per_million\")\n",
        "x = data1[features]\n",
        "y1 = data1[\"new_cases_per_million\"]\n",
        "\n",
        "#add constant to predictor variables\n",
        "x = sm.add_constant(x)\n",
        "\n",
        "#fit linear regression model\n",
        "model = sm.OLS(y1,x).fit();\n",
        "\n",
        "# view model summary\n",
        "print(model.summary())\n",
        "\n",
        "#predict new cases\n",
        "y_pred1 = model.predict(x)"
      ],
      "metadata": {
        "id": "-3pLltKPbkV6",
        "colab": {
          "base_uri": "https://localhost:8080/"
        },
        "outputId": "f4d0723f-2a7a-4114-db27-72f40acf63d7"
      },
      "execution_count": null,
      "outputs": [
        {
          "output_type": "stream",
          "name": "stdout",
          "text": [
            "                              OLS Regression Results                             \n",
            "=================================================================================\n",
            "Dep. Variable:     new_cases_per_million   R-squared:                       0.432\n",
            "Model:                               OLS   Adj. R-squared:                  0.356\n",
            "Method:                    Least Squares   F-statistic:                     5.733\n",
            "Date:                   Thu, 02 Jun 2022   Prob (F-statistic):           9.09e-12\n",
            "Time:                           07:28:27   Log-Likelihood:                -1652.9\n",
            "No. Observations:                    189   AIC:                             3352.\n",
            "Df Residuals:                        166   BIC:                             3426.\n",
            "Df Model:                             22                                         \n",
            "Covariance Type:               nonrobust                                         \n",
            "===================================================================================================\n",
            "                                      coef    std err          t      P>|t|      [0.025      0.975]\n",
            "---------------------------------------------------------------------------------------------------\n",
            "const                           -1148.6428   2370.772     -0.485      0.629   -5829.395    3532.109\n",
            "new_tests_smoothed_per_thousand    18.3850     11.103      1.656      0.100      -3.536      40.306\n",
            "positive_rate                    1071.2497    803.422      1.333      0.184    -514.993    2657.493\n",
            "tests_per_case                     -0.0060      0.012     -0.517      0.606      -0.029       0.017\n",
            "stringency_index                   -7.4553      7.710     -0.967      0.335     -22.678       7.767\n",
            "population_density                 -0.2197      0.173     -1.270      0.206      -0.561       0.122\n",
            "median_age                        -28.9261     51.810     -0.558      0.577    -131.217      73.364\n",
            "aged_65_older                     208.9040     87.965      2.375      0.019      35.229     382.579\n",
            "aged_70_older                     -87.0952    125.666     -0.693      0.489    -335.205     161.014\n",
            "gdp_per_capita                      0.0209      0.010      2.080      0.039       0.001       0.041\n",
            "extreme_poverty                   -12.5891     10.141     -1.241      0.216     -32.612       7.433\n",
            "cardiovasc_death_rate              -0.9350      1.489     -0.628      0.531      -3.876       2.006\n",
            "diabetes_prevalence                20.4880     41.921      0.489      0.626     -62.280     103.256\n",
            "female_smokers                     17.4632     18.208      0.959      0.339     -18.486      53.412\n",
            "male_smokers                       -1.2434     10.914     -0.114      0.909     -22.792      20.305\n",
            "hospital_beds_per_thousand        -98.7171     81.320     -1.214      0.226    -259.272      61.838\n",
            "life_expectancy                    87.7994     41.972      2.092      0.038       4.931     170.668\n",
            "human_development_index         -6271.6711   2446.993     -2.563      0.011   -1.11e+04   -1440.432\n",
            "Africa                            -62.8837    402.577     -0.156      0.876    -857.715     731.948\n",
            "Asia                              -24.4938    542.382     -0.045      0.964   -1095.351    1046.363\n",
            "Europe                            284.0302    644.536      0.441      0.660    -988.515    1556.575\n",
            "North America                    -492.8069    519.871     -0.948      0.345   -1519.217     533.604\n",
            "Oceania                          -284.1299    743.463     -0.382      0.703   -1751.991    1183.732\n",
            "South America                    -568.3587    602.844     -0.943      0.347   -1758.588     621.871\n",
            "==============================================================================\n",
            "Omnibus:                      192.024   Durbin-Watson:                   2.079\n",
            "Prob(Omnibus):                  0.000   Jarque-Bera (JB):             6818.783\n",
            "Skew:                           3.719   Prob(JB):                         0.00\n",
            "Kurtosis:                      31.470   Cond. No.                     2.68e+20\n",
            "==============================================================================\n",
            "\n",
            "Warnings:\n",
            "[1] Standard Errors assume that the covariance matrix of the errors is correctly specified.\n",
            "[2] The smallest eigenvalue is 2.04e-30. This might indicate that there are\n",
            "strong multicollinearity problems or that the design matrix is singular.\n"
          ]
        },
        {
          "output_type": "stream",
          "name": "stderr",
          "text": [
            "/usr/local/lib/python3.7/dist-packages/statsmodels/tsa/tsatools.py:117: FutureWarning: In a future version of pandas all arguments of concat except for the argument 'objs' will be keyword-only\n",
            "  x = pd.concat(x[::order], 1)\n"
          ]
        }
      ]
    },
    {
      "cell_type": "code",
      "source": [
        "# Build Model to predict \"new_deaths_per_million\"\n",
        "data2 = data.drop(columns = \"new_cases_per_million\")\n",
        "x = data2[features]\n",
        "y2 = data2[\"new_deaths_per_million\"]\n",
        "\n",
        "#add constant to predictor variables\n",
        "x = sm.add_constant(x)\n",
        "#fit linear regression model\n",
        "model = sm.OLS(y2,x).fit()\n",
        "\n",
        "# view model summary\n",
        "print(model.summary())\n",
        "\n",
        "#predict new deaths\n",
        "y_pred2 = model.predict(x)"
      ],
      "metadata": {
        "colab": {
          "base_uri": "https://localhost:8080/"
        },
        "id": "zaLLQRQoUV1h",
        "outputId": "d15bcc74-8d53-47b4-c99e-ec597f3c612a"
      },
      "execution_count": null,
      "outputs": [
        {
          "output_type": "stream",
          "name": "stdout",
          "text": [
            "                              OLS Regression Results                              \n",
            "==================================================================================\n",
            "Dep. Variable:     new_deaths_per_million   R-squared:                       0.487\n",
            "Model:                                OLS   Adj. R-squared:                  0.419\n",
            "Method:                     Least Squares   F-statistic:                     7.152\n",
            "Date:                    Thu, 02 Jun 2022   Prob (F-statistic):           6.36e-15\n",
            "Time:                            07:28:27   Log-Likelihood:                -513.81\n",
            "No. Observations:                     189   AIC:                             1074.\n",
            "Df Residuals:                         166   BIC:                             1148.\n",
            "Df Model:                              22                                         \n",
            "Covariance Type:                nonrobust                                         \n",
            "===================================================================================================\n",
            "                                      coef    std err          t      P>|t|      [0.025      0.975]\n",
            "---------------------------------------------------------------------------------------------------\n",
            "const                              -4.6814      5.721     -0.818      0.414     -15.976       6.613\n",
            "new_tests_smoothed_per_thousand    -0.0353      0.027     -1.319      0.189      -0.088       0.018\n",
            "positive_rate                       2.6667      1.939      1.376      0.171      -1.161       6.494\n",
            "tests_per_case                  -1.712e-05   2.81e-05     -0.610      0.542   -7.25e-05    3.83e-05\n",
            "stringency_index                   -0.0273      0.019     -1.468      0.144      -0.064       0.009\n",
            "population_density                 -0.0003      0.000     -0.696      0.487      -0.001       0.001\n",
            "median_age                          0.2388      0.125      1.910      0.058      -0.008       0.486\n",
            "aged_65_older                       0.5233      0.212      2.466      0.015       0.104       0.942\n",
            "aged_70_older                      -0.5644      0.303     -1.861      0.064      -1.163       0.034\n",
            "gdp_per_capita                  -5.497e-05   2.42e-05     -2.268      0.025      -0.000   -7.11e-06\n",
            "extreme_poverty                     0.0024      0.024      0.098      0.922      -0.046       0.051\n",
            "cardiovasc_death_rate               0.0024      0.004      0.661      0.510      -0.005       0.009\n",
            "diabetes_prevalence                 0.2073      0.101      2.049      0.042       0.008       0.407\n",
            "female_smokers                      0.1044      0.044      2.375      0.019       0.018       0.191\n",
            "male_smokers                        0.0155      0.026      0.589      0.557      -0.036       0.067\n",
            "hospital_beds_per_thousand         -0.3858      0.196     -1.966      0.051      -0.773       0.002\n",
            "life_expectancy                    -0.0684      0.101     -0.675      0.500      -0.268       0.132\n",
            "human_development_index             6.0113      5.904      1.018      0.310      -5.646      17.669\n",
            "Africa                             -0.0313      0.971     -0.032      0.974      -1.949       1.887\n",
            "Asia                               -2.0181      1.309     -1.542      0.125      -4.602       0.566\n",
            "Europe                             -1.8153      1.555     -1.167      0.245      -4.886       1.255\n",
            "North America                       2.2230      1.254      1.772      0.078      -0.254       4.700\n",
            "Oceania                            -2.2805      1.794     -1.271      0.205      -5.822       1.261\n",
            "South America                      -0.7591      1.455     -0.522      0.602      -3.631       2.113\n",
            "==============================================================================\n",
            "Omnibus:                       77.930   Durbin-Watson:                   1.649\n",
            "Prob(Omnibus):                  0.000   Jarque-Bera (JB):              282.529\n",
            "Skew:                           1.639   Prob(JB):                     4.46e-62\n",
            "Kurtosis:                       8.013   Cond. No.                     2.68e+20\n",
            "==============================================================================\n",
            "\n",
            "Warnings:\n",
            "[1] Standard Errors assume that the covariance matrix of the errors is correctly specified.\n",
            "[2] The smallest eigenvalue is 2.04e-30. This might indicate that there are\n",
            "strong multicollinearity problems or that the design matrix is singular.\n"
          ]
        },
        {
          "output_type": "stream",
          "name": "stderr",
          "text": [
            "/usr/local/lib/python3.7/dist-packages/statsmodels/tsa/tsatools.py:117: FutureWarning: In a future version of pandas all arguments of concat except for the argument 'objs' will be keyword-only\n",
            "  x = pd.concat(x[::order], 1)\n"
          ]
        }
      ]
    },
    {
      "cell_type": "markdown",
      "source": [
        "#3. p-value intepretation\n",
        "\n"
      ],
      "metadata": {
        "id": "5458odXTvggd"
      }
    },
    {
      "cell_type": "code",
      "source": [
        ""
      ],
      "metadata": {
        "id": "bIpwZCX4S9Kg"
      },
      "execution_count": null,
      "outputs": []
    },
    {
      "cell_type": "markdown",
      "source": [
        "* Coefficients having p-values less than alpha are statistically significant and vice versa. In other words, we can consider features with low p-value to be important in affecting the outcome. Below are our opinion on valid and invalid p-value based on real-life semantics and relationships between the features and the target.\n",
        "* **Valid results:**\n",
        "  * In both model, we could observe that feature age_65_older has low p-value and positive coefficient, indicating a strong positive correlation. This is understandable as countries with more older citizens are prone to have more cases and deaths (elders are susceptible to covids as they have weak immunity). \n",
        "  * Another valid measurements are the relatively small values of p-values for gdp_per_capita in both cases. This suggests that gdp_per_capita is a vital feature determining the number of new cases and deaths. The claim makes sense with a positive coefficient in the new cases prediction model as gdp_per_capita represents a country prosperity, and the more prosper a nation is, the better resources it can utilize to prevent the impact of covid-19. However, in the death prediction model the coefficient are negative contradicting our belief.\n",
        "  * diabetes_prevalence has a positive weight accompanied by a low p_value (0.042), rendering it the top determinant of new deaths cases. This is a valid analysis result as diabetes increase the mortality rate of the patients, which combines with covid could greatly affect the death rate and cases.\n",
        "* **Invalid results:**\n",
        "  * The p-value of feature extreme_poverty in new_deaths_prediction model is surprisingly high (0.922) in contrast to the one in new_cases_model, suggesting that this is not a statistically siginificant feature. This does not make much sense as extreme_poverty demonstrates the part of population living in extreme poverty, not being able to afford medical support. Hence this has certain correlation with the death rate and new death cases and should have a higher importance. The low significane may be attributed to the fact that the deaths reported are not comprehensive with cases outside of hospitals overlooked (usually poor people).\n",
        "  * life_expectancy feature has a really low p_value (0.038) indicating a heavy importance of this feature in the new cases prediction model. This may not be the case as new covid affected cases, intuitively does not depend on how long a people is expected to live, but life expectancy might be a better dictator of mortality rate (new death cases).\n"
      ],
      "metadata": {
        "id": "4Jg6uRRAvnXJ"
      }
    },
    {
      "cell_type": "markdown",
      "source": [
        "In the upcoming questions, we decided to use SequentialFeatureSelector to perform the task of stepwise regression, as it allows us to consequently select/eliminate features until a certain condition is satisfied. Here, the scoring function/criteria are accuracy, which means that we choose/remove features to optimize accuracy. The accuracy is automatically calculated and optimized by the function hence we use this primarily to retrieve the feature, not to measure the accuracy. Also, the target is to select 15/23 feature (or eliminate 8) and compare the results between 2 approaches (backward and forward)"
      ],
      "metadata": {
        "id": "u4W-nTQPTwpW"
      }
    },
    {
      "cell_type": "markdown",
      "source": [
        "# 4.Step-wise forward regression"
      ],
      "metadata": {
        "id": "G3gfhcD6xjnv"
      }
    },
    {
      "cell_type": "code",
      "source": [
        "def step_wise_regression(model, direction, num_features, data, feature, target):\n",
        "  curr_time = time.time()\n",
        "  sfs_fit = sfs(model, n_features_to_select = num_features, direction=direction, \n",
        "            scoring= 'accuracy', n_jobs =-1).fit(data[features], data[target])\n",
        "  print(f\"Time executing {direction} stepwise regression is {round((time.time() - curr_time),2)}s\")\n",
        "  #get selected feature from stepwise selection for regression\n",
        "  selected_feature_boolean = sfs_fit.get_support()\n",
        "\n",
        "  if direction == 'backward':\n",
        "    selected_feature_boolean = np.invert(np.array(selected_feature_boolean))\n",
        "  selected_feature = features[selected_feature_boolean]\n",
        "  # get data for training\n",
        "  x_stepwise = data[selected_feature]\n",
        "  y_stepwise = data[target]\n",
        "\n",
        "  #add constant to predictor variables\n",
        "  x_stepwise = sm.add_constant(x_stepwise)\n",
        "  #fit linear regression model\n",
        "  model = sm.OLS(y_stepwise,x_stepwise).fit()\n",
        "\n",
        "  # view model summary\n",
        "  print(model.summary())"
      ],
      "metadata": {
        "id": "gMoGpJWOSU5r"
      },
      "execution_count": null,
      "outputs": []
    },
    {
      "cell_type": "code",
      "source": [
        "model = LinearRegression()\n",
        "# new cases prediction with forward model\n",
        "step_wise_regression(model, 'forward', 15, data1, features, 'new_cases_per_million')"
      ],
      "metadata": {
        "colab": {
          "base_uri": "https://localhost:8080/"
        },
        "id": "6bv2eYdixg_c",
        "outputId": "893b81ff-19c6-4387-e23e-37c35c2f4242"
      },
      "execution_count": null,
      "outputs": [
        {
          "output_type": "stream",
          "name": "stdout",
          "text": [
            "Time executing forward stepwise regression is 8.07s\n",
            "                              OLS Regression Results                             \n",
            "=================================================================================\n",
            "Dep. Variable:     new_cases_per_million   R-squared:                       0.394\n",
            "Model:                               OLS   Adj. R-squared:                  0.342\n",
            "Method:                    Least Squares   F-statistic:                     7.500\n",
            "Date:                   Thu, 02 Jun 2022   Prob (F-statistic):           1.10e-12\n",
            "Time:                           07:28:35   Log-Likelihood:                -1659.0\n",
            "No. Observations:                    189   AIC:                             3350.\n",
            "Df Residuals:                        173   BIC:                             3402.\n",
            "Df Model:                             15                                         \n",
            "Covariance Type:               nonrobust                                         \n",
            "===================================================================================================\n",
            "                                      coef    std err          t      P>|t|      [0.025      0.975]\n",
            "---------------------------------------------------------------------------------------------------\n",
            "const                             798.1724    992.016      0.805      0.422   -1159.840    2756.185\n",
            "new_tests_smoothed_per_thousand    19.7946     10.866      1.822      0.070      -1.653      41.242\n",
            "positive_rate                    1136.1566    732.525      1.551      0.123    -309.681    2581.994\n",
            "tests_per_case                     -0.0039      0.012     -0.334      0.739      -0.027       0.019\n",
            "stringency_index                   -8.7526      7.475     -1.171      0.243     -23.507       6.002\n",
            "population_density                 -0.1997      0.167     -1.192      0.235      -0.530       0.131\n",
            "median_age                        -45.6460     46.141     -0.989      0.324    -136.718      45.426\n",
            "aged_65_older                     293.0932     81.145      3.612      0.000     132.932     453.255\n",
            "aged_70_older                    -165.5854    120.284     -1.377      0.170    -402.998      71.827\n",
            "gdp_per_capita                      0.0196      0.009      2.099      0.037       0.001       0.038\n",
            "extreme_poverty                    -3.6320      9.201     -0.395      0.694     -21.793      14.529\n",
            "cardiovasc_death_rate              -0.4929      1.307     -0.377      0.707      -3.072       2.087\n",
            "diabetes_prevalence                10.3659     36.751      0.282      0.778     -62.173      82.905\n",
            "female_smokers                     13.9513     16.228      0.860      0.391     -18.079      45.981\n",
            "male_smokers                        2.1975     10.700      0.205      0.838     -18.922      23.317\n",
            "hospital_beds_per_thousand       -139.0528     79.071     -1.759      0.080    -295.121      17.015\n",
            "==============================================================================\n",
            "Omnibus:                      211.045   Durbin-Watson:                   2.020\n",
            "Prob(Omnibus):                  0.000   Jarque-Bera (JB):            10449.179\n",
            "Skew:                           4.198   Prob(JB):                         0.00\n",
            "Kurtosis:                      38.445   Cond. No.                     2.32e+05\n",
            "==============================================================================\n",
            "\n",
            "Warnings:\n",
            "[1] Standard Errors assume that the covariance matrix of the errors is correctly specified.\n",
            "[2] The condition number is large, 2.32e+05. This might indicate that there are\n",
            "strong multicollinearity or other numerical problems.\n"
          ]
        },
        {
          "output_type": "stream",
          "name": "stderr",
          "text": [
            "/usr/local/lib/python3.7/dist-packages/statsmodels/tsa/tsatools.py:117: FutureWarning: In a future version of pandas all arguments of concat except for the argument 'objs' will be keyword-only\n",
            "  x = pd.concat(x[::order], 1)\n"
          ]
        }
      ]
    },
    {
      "cell_type": "code",
      "source": [
        "# new deaths prediction with forward model\n",
        "step_wise_regression(model, 'forward', 15, data2, features, 'new_deaths_per_million')"
      ],
      "metadata": {
        "colab": {
          "base_uri": "https://localhost:8080/"
        },
        "id": "lQFrEewBz3li",
        "outputId": "d2056477-97a5-4f7e-b6ca-800436e5edd2"
      },
      "execution_count": null,
      "outputs": [
        {
          "output_type": "stream",
          "name": "stdout",
          "text": [
            "Time executing forward stepwise regression is 5.72s\n",
            "                              OLS Regression Results                              \n",
            "==================================================================================\n",
            "Dep. Variable:     new_deaths_per_million   R-squared:                       0.426\n",
            "Model:                                OLS   Adj. R-squared:                  0.376\n",
            "Method:                     Least Squares   F-statistic:                     8.567\n",
            "Date:                    Thu, 02 Jun 2022   Prob (F-statistic):           1.61e-14\n",
            "Time:                            07:28:41   Log-Likelihood:                -524.32\n",
            "No. Observations:                     189   AIC:                             1081.\n",
            "Df Residuals:                         173   BIC:                             1133.\n",
            "Df Model:                              15                                         \n",
            "Covariance Type:                nonrobust                                         \n",
            "===================================================================================================\n",
            "                                      coef    std err          t      P>|t|      [0.025      0.975]\n",
            "---------------------------------------------------------------------------------------------------\n",
            "const                              -4.2995      2.451     -1.754      0.081      -9.136       0.537\n",
            "new_tests_smoothed_per_thousand    -0.0429      0.027     -1.599      0.112      -0.096       0.010\n",
            "positive_rate                       2.1523      1.810      1.189      0.236      -1.419       5.724\n",
            "tests_per_case                  -2.613e-05   2.89e-05     -0.904      0.367   -8.32e-05    3.09e-05\n",
            "stringency_index                   -0.0401      0.018     -2.174      0.031      -0.077      -0.004\n",
            "population_density                 -0.0004      0.000     -0.949      0.344      -0.001       0.000\n",
            "median_age                          0.2440      0.114      2.141      0.034       0.019       0.469\n",
            "aged_65_older                       0.5575      0.200      2.781      0.006       0.162       0.953\n",
            "aged_70_older                      -0.6029      0.297     -2.029      0.044      -1.189      -0.016\n",
            "gdp_per_capita                  -6.668e-05   2.31e-05     -2.886      0.004      -0.000   -2.11e-05\n",
            "extreme_poverty                    -0.0042      0.023     -0.186      0.853      -0.049       0.041\n",
            "cardiovasc_death_rate              -0.0015      0.003     -0.480      0.632      -0.008       0.005\n",
            "diabetes_prevalence                 0.2554      0.091      2.813      0.005       0.076       0.435\n",
            "female_smokers                      0.1019      0.040      2.542      0.012       0.023       0.181\n",
            "male_smokers                        0.0108      0.026      0.407      0.684      -0.041       0.063\n",
            "hospital_beds_per_thousand         -0.4378      0.195     -2.241      0.026      -0.823      -0.052\n",
            "==============================================================================\n",
            "Omnibus:                      104.186   Durbin-Watson:                   1.536\n",
            "Prob(Omnibus):                  0.000   Jarque-Bera (JB):              549.339\n",
            "Skew:                           2.117   Prob(JB):                    5.16e-120\n",
            "Kurtosis:                      10.199   Cond. No.                     2.32e+05\n",
            "==============================================================================\n",
            "\n",
            "Warnings:\n",
            "[1] Standard Errors assume that the covariance matrix of the errors is correctly specified.\n",
            "[2] The condition number is large, 2.32e+05. This might indicate that there are\n",
            "strong multicollinearity or other numerical problems.\n"
          ]
        },
        {
          "output_type": "stream",
          "name": "stderr",
          "text": [
            "/usr/local/lib/python3.7/dist-packages/statsmodels/tsa/tsatools.py:117: FutureWarning: In a future version of pandas all arguments of concat except for the argument 'objs' will be keyword-only\n",
            "  x = pd.concat(x[::order], 1)\n"
          ]
        }
      ]
    },
    {
      "cell_type": "markdown",
      "source": [
        "# 5.Step-wise backward regression"
      ],
      "metadata": {
        "id": "t_nUP8xpxp51"
      }
    },
    {
      "cell_type": "code",
      "source": [
        "# new cases prediction with backward model\n",
        "step_wise_regression(model, 'backward', 8, data1, features, 'new_cases_per_million')"
      ],
      "metadata": {
        "id": "iGNE6NcFqp1-",
        "colab": {
          "base_uri": "https://localhost:8080/"
        },
        "outputId": "3bdafa17-8838-4dfa-fb34-70c334abe9e0"
      },
      "execution_count": null,
      "outputs": [
        {
          "output_type": "stream",
          "name": "stdout",
          "text": [
            "Time executing backward stepwise regression is 6.06s\n",
            "                              OLS Regression Results                             \n",
            "=================================================================================\n",
            "Dep. Variable:     new_cases_per_million   R-squared:                       0.394\n",
            "Model:                               OLS   Adj. R-squared:                  0.342\n",
            "Method:                    Least Squares   F-statistic:                     7.500\n",
            "Date:                   Thu, 02 Jun 2022   Prob (F-statistic):           1.10e-12\n",
            "Time:                           07:28:47   Log-Likelihood:                -1659.0\n",
            "No. Observations:                    189   AIC:                             3350.\n",
            "Df Residuals:                        173   BIC:                             3402.\n",
            "Df Model:                             15                                         \n",
            "Covariance Type:               nonrobust                                         \n",
            "===================================================================================================\n",
            "                                      coef    std err          t      P>|t|      [0.025      0.975]\n",
            "---------------------------------------------------------------------------------------------------\n",
            "const                             798.1724    992.016      0.805      0.422   -1159.840    2756.185\n",
            "new_tests_smoothed_per_thousand    19.7946     10.866      1.822      0.070      -1.653      41.242\n",
            "positive_rate                    1136.1566    732.525      1.551      0.123    -309.681    2581.994\n",
            "tests_per_case                     -0.0039      0.012     -0.334      0.739      -0.027       0.019\n",
            "stringency_index                   -8.7526      7.475     -1.171      0.243     -23.507       6.002\n",
            "population_density                 -0.1997      0.167     -1.192      0.235      -0.530       0.131\n",
            "median_age                        -45.6460     46.141     -0.989      0.324    -136.718      45.426\n",
            "aged_65_older                     293.0932     81.145      3.612      0.000     132.932     453.255\n",
            "aged_70_older                    -165.5854    120.284     -1.377      0.170    -402.998      71.827\n",
            "gdp_per_capita                      0.0196      0.009      2.099      0.037       0.001       0.038\n",
            "extreme_poverty                    -3.6320      9.201     -0.395      0.694     -21.793      14.529\n",
            "cardiovasc_death_rate              -0.4929      1.307     -0.377      0.707      -3.072       2.087\n",
            "diabetes_prevalence                10.3659     36.751      0.282      0.778     -62.173      82.905\n",
            "female_smokers                     13.9513     16.228      0.860      0.391     -18.079      45.981\n",
            "male_smokers                        2.1975     10.700      0.205      0.838     -18.922      23.317\n",
            "hospital_beds_per_thousand       -139.0528     79.071     -1.759      0.080    -295.121      17.015\n",
            "==============================================================================\n",
            "Omnibus:                      211.045   Durbin-Watson:                   2.020\n",
            "Prob(Omnibus):                  0.000   Jarque-Bera (JB):            10449.179\n",
            "Skew:                           4.198   Prob(JB):                         0.00\n",
            "Kurtosis:                      38.445   Cond. No.                     2.32e+05\n",
            "==============================================================================\n",
            "\n",
            "Warnings:\n",
            "[1] Standard Errors assume that the covariance matrix of the errors is correctly specified.\n",
            "[2] The condition number is large, 2.32e+05. This might indicate that there are\n",
            "strong multicollinearity or other numerical problems.\n"
          ]
        },
        {
          "output_type": "stream",
          "name": "stderr",
          "text": [
            "/usr/local/lib/python3.7/dist-packages/statsmodels/tsa/tsatools.py:117: FutureWarning: In a future version of pandas all arguments of concat except for the argument 'objs' will be keyword-only\n",
            "  x = pd.concat(x[::order], 1)\n"
          ]
        }
      ]
    },
    {
      "cell_type": "code",
      "source": [
        "# new deaths prediction with forward model\n",
        "step_wise_regression(model, 'backward', 8, data2, features, 'new_deaths_per_million')"
      ],
      "metadata": {
        "colab": {
          "base_uri": "https://localhost:8080/"
        },
        "id": "1f-7YldE0TZG",
        "outputId": "d9f3ad99-4f37-41cc-f495-74d259b2a983"
      },
      "execution_count": null,
      "outputs": [
        {
          "output_type": "stream",
          "name": "stdout",
          "text": [
            "Time executing backward stepwise regression is 6.2s\n",
            "                              OLS Regression Results                              \n",
            "==================================================================================\n",
            "Dep. Variable:     new_deaths_per_million   R-squared:                       0.426\n",
            "Model:                                OLS   Adj. R-squared:                  0.376\n",
            "Method:                     Least Squares   F-statistic:                     8.567\n",
            "Date:                    Thu, 02 Jun 2022   Prob (F-statistic):           1.61e-14\n",
            "Time:                            07:28:53   Log-Likelihood:                -524.32\n",
            "No. Observations:                     189   AIC:                             1081.\n",
            "Df Residuals:                         173   BIC:                             1133.\n",
            "Df Model:                              15                                         \n",
            "Covariance Type:                nonrobust                                         \n",
            "===================================================================================================\n",
            "                                      coef    std err          t      P>|t|      [0.025      0.975]\n",
            "---------------------------------------------------------------------------------------------------\n",
            "const                              -4.2995      2.451     -1.754      0.081      -9.136       0.537\n",
            "new_tests_smoothed_per_thousand    -0.0429      0.027     -1.599      0.112      -0.096       0.010\n",
            "positive_rate                       2.1523      1.810      1.189      0.236      -1.419       5.724\n",
            "tests_per_case                  -2.613e-05   2.89e-05     -0.904      0.367   -8.32e-05    3.09e-05\n",
            "stringency_index                   -0.0401      0.018     -2.174      0.031      -0.077      -0.004\n",
            "population_density                 -0.0004      0.000     -0.949      0.344      -0.001       0.000\n",
            "median_age                          0.2440      0.114      2.141      0.034       0.019       0.469\n",
            "aged_65_older                       0.5575      0.200      2.781      0.006       0.162       0.953\n",
            "aged_70_older                      -0.6029      0.297     -2.029      0.044      -1.189      -0.016\n",
            "gdp_per_capita                  -6.668e-05   2.31e-05     -2.886      0.004      -0.000   -2.11e-05\n",
            "extreme_poverty                    -0.0042      0.023     -0.186      0.853      -0.049       0.041\n",
            "cardiovasc_death_rate              -0.0015      0.003     -0.480      0.632      -0.008       0.005\n",
            "diabetes_prevalence                 0.2554      0.091      2.813      0.005       0.076       0.435\n",
            "female_smokers                      0.1019      0.040      2.542      0.012       0.023       0.181\n",
            "male_smokers                        0.0108      0.026      0.407      0.684      -0.041       0.063\n",
            "hospital_beds_per_thousand         -0.4378      0.195     -2.241      0.026      -0.823      -0.052\n",
            "==============================================================================\n",
            "Omnibus:                      104.186   Durbin-Watson:                   1.536\n",
            "Prob(Omnibus):                  0.000   Jarque-Bera (JB):              549.339\n",
            "Skew:                           2.117   Prob(JB):                    5.16e-120\n",
            "Kurtosis:                      10.199   Cond. No.                     2.32e+05\n",
            "==============================================================================\n",
            "\n",
            "Warnings:\n",
            "[1] Standard Errors assume that the covariance matrix of the errors is correctly specified.\n",
            "[2] The condition number is large, 2.32e+05. This might indicate that there are\n",
            "strong multicollinearity or other numerical problems.\n"
          ]
        },
        {
          "output_type": "stream",
          "name": "stderr",
          "text": [
            "/usr/local/lib/python3.7/dist-packages/statsmodels/tsa/tsatools.py:117: FutureWarning: In a future version of pandas all arguments of concat except for the argument 'objs' will be keyword-only\n",
            "  x = pd.concat(x[::order], 1)\n"
          ]
        }
      ]
    },
    {
      "cell_type": "markdown",
      "source": [
        "#6. Compare step-wise backward and forward regression\n",
        "\n",
        "**1.   Method**\n",
        "*   **Forward regression:** begins with a Null Model then starts adding the most significant variables one after the other until a pre-specified stopping rule is reached or all the variables under consideration are included in the model.\n",
        "*   **Backward regression:** begins with a Full Model then starts removing the lease significant variables one after the other until a pre-specified stopping rule is reached or no variable is left in the model.\n",
        "\n",
        "**2. Usage**\n",
        "*   **Forward stepwise** is superior when the number of variables (features) under consideration is very large, only less than the sample size.\n",
        "*   **Backward stepwise** is prefered in almost every other case as starting with the full model has the advantage of considering the effects of all variables simultaneously. This is especially important in case of collinearity because backward stepwise may be forced to keep them all in the model unlike forward selection where none of them might be entered.\n",
        "* Hence unless the number of features is really large, use a **backward stepwise** approach.\n",
        "\n",
        "**3. Results**\n",
        "* In this project, given the same criteria (accuracy,etc.), backward stepwise and forward stepwise will return exactly the same 15 features (with different statistics) with the difference of time not considerable between two methods as the number of features are small. The aforementioned advantage of backward stepwise is not in use here as the relationship between variables are not significant. Also, forward stepwise is not better here as the number of attributes are relatively small compared to the number of records."
      ],
      "metadata": {
        "id": "wxBtnTNsxswu"
      }
    }
  ]
}